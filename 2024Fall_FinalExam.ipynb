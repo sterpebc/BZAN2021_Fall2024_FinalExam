{
 "cells": [
  {
   "cell_type": "markdown",
   "id": "eb8b4b64-a22a-48e5-ba6f-ce65d4a6e6f2",
   "metadata": {},
   "source": [
    "# BZAN2021 -- Fall 2024 -- Sterpe -- Final Exam\n",
    "\n",
    "**Important**\n",
    "* Write your code in the code cells provided.\n",
    "* You may create additional code cells if you need them. If you try solving a problem more than one way, make it clear which code cell contains your official answer. If it is not clear which cell contains your official answer, you will lose points.\n",
    "* You may only use coding techniques that have been covered in course readings, videos, and lectures. Use of other techniques may result in loss of points.\n",
    "* All problems are worth 20 points; they are not necessarily in order of difficulty.\n",
    "* THANK YOU for a delightful semester."
   ]
  },
  {
   "cell_type": "markdown",
   "id": "e68a7097-79cd-4f5b-beaa-24af3207eeef",
   "metadata": {
    "editable": false
   },
   "source": [
    "## Problem 1\n",
    "\n",
    "Suppose you are in charge of designing the software for the cash registers at a grocery store. You decide to represent a customer's whole shopping trip using a **purchase dictionary** of this form:\n",
    "```\n",
    "{\n",
    "    123456: {'quantity': 4, 'unit price': 1.00},\n",
    "    34654: {'quantity': 1, 'unit price': 3.59},\n",
    "    443002: {'quantity': 5, 'unit price': 2.29}\n",
    "}\n",
    "```\n",
    "In the **purchase dictionary**, each key is a product barcode. The value for each key is a dictionary that contains the quantity of the product that the customer purchased, and the price per item.\n",
    "\n",
    "Customers can use discount coupons when they buy items at your store. Typically, a customer hands the cashier several coupons. All of the coupons cannot necessarily be used, however -- each coupon specifies which product it applies to, a quantity of that product that the customer must purchase to receive the discount, and the discount that the customer will receive. If a customer doesn't buy a coupon's product, or if they don't buy enough of the product, the coupon will not apply. You decide to represent all of a customer's coupons with a **coupon dictionary** of this form:\n",
    "```\n",
    "{\n",
    "    123456: {'quantity': 4, 'discount': .25},\n",
    "    443002: {'quantity': 6, 'discount': .33}\n",
    "}\n",
    "```\n",
    "This **coupon dictionary** tells us that the customer gave the cashier two coupons, one for the product whose barcode is 123456, and one for the product whose barcode is 443002. The 123456 coupon can be used if the customer buys 4 or more of that product; the discount will be 25% (.25). Similarly, the 443002 coupon can be used if the customer buys 6 or more of that product; the discount will be .33.\n",
    "\n",
    "Looking at the **purchase dictionary** and **coupon dictionary** above, we see the following:\n",
    "* The coupon for product 123456 can be used -- the customer bought 4 of those, which is enough to get the discount. The initial total for these items would be $4 x \\$1.00 = \\$4.00$, but after subtracting a 25% discount, the total comes to \\\\$3.00.\n",
    "* The coupon for product 443002 cannot be used -- the customer only bought 5 of those, and the coupon requires 6.\n",
    "\n",
    "Write a function named `coupon` that requires two parameters, a **purchase dictionary** and a **coupon dictionary**. The first argument tells us what the customer purchased, and the second argument tells us which coupons the customer hopes to use. Your function should calculate the customer's total amount spent, subtract any discounts due to coupons that can be used, and return this amount as a float.\n",
    "\n",
    "Do not worry about the number of decimal places in your answer; accept whatever precision Python provides.\n"
   ]
  },
  {
   "cell_type": "code",
   "execution_count": null,
   "id": "055fdd3f-5899-4dc4-ae87-d21038aba018",
   "metadata": {},
   "outputs": [],
   "source": [
    "# Problem 1 code in this cell\n",
    "\n"
   ]
  },
  {
   "cell_type": "code",
   "execution_count": null,
   "id": "31f36f50",
   "metadata": {},
   "outputs": [],
   "source": [
    "# Test data for Problem 1\n",
    "\n",
    "purchase_dict_1 = {\n",
    "    123456: {'quantity': 4, 'unit price': 1.00},\n",
    "    34654: {'quantity': 1, 'unit price': 3.59},\n",
    "    443002: {'quantity': 5, 'unit price': 2.29}\n",
    "}\n",
    "\n",
    "coupon_dict_1 = {\n",
    "    123456: {'quantity': 4, 'discount': .25},\n",
    "    443002: {'quantity': 6, 'discount': .33}\n",
    "}\n",
    "\n",
    "coupon_dict_2 = {\n",
    "    123456: {'quantity': 4, 'discount': .25},\n",
    "    443002: {'quantity': 5, 'discount': .33}\n",
    "}\n",
    "\n",
    "\n",
    "coupon_dict_3 = {\n",
    "    123456: {'quantity': 4, 'discount': .25},\n",
    "    34654: {'quantity': 1, 'discount': .50}\n",
    "}\n",
    "\n",
    "print(coupon(purchase_dict_1, coupon_dict_1))  # 18.04\n",
    "print(coupon(purchase_dict_1, coupon_dict_2))  # 14.261...\n",
    "print(coupon(purchase_dict_1, coupon_dict_3))  # 16.244...\n"
   ]
  },
  {
   "cell_type": "markdown",
   "id": "1492b2bd-71bb-46f1-b5bf-17430a640fc9",
   "metadata": {},
   "source": [
    "## Problem 2\n",
    "\n",
    "Suppose your company's sales data is represented with a Python list in this form:\n",
    "```\n",
    "sales_data = [\n",
    "    # 2020\n",
    "    [\n",
    "        [1200, 950, 1100, 1400],  # Category 1; sales in Region 1, 2, 3, 4\n",
    "        [800, 760, 900, 650],     # Category 2\n",
    "        [500, 600, 550, 700],     # Category 3\n",
    "        [1500, 1300, 1400, 1600], # Category 4\n",
    "        [700, 550, 650, 500],     # Category 5\n",
    "    ],\n",
    "    # 2021\n",
    "    [\n",
    "        [1300, 980, 1150, 1450],  # Category 1\n",
    "        [850, 780, 920, 670],     # Category 2\n",
    "        [520, 630, 570, 730],     # Category 3\n",
    "        [1550, 1350, 1450, 1650], # Category 4\n",
    "        [730, 580, 690, 520],     # Category 5\n",
    "    ],\n",
    "    # 2022\n",
    "    [\n",
    "        [1350, 1020, 1200, 1500], # Category 1\n",
    "        [880, 800, 940, 700],     # Category 2\n",
    "        [540, 650, 590, 750],     # Category 3\n",
    "        [1600, 1400, 1500, 1700], # Category 4\n",
    "        [760, 610, 720, 540],     # Category 5\n",
    "    ]\n",
    "]\n",
    "```\n",
    "Each list element represents data for one year; this example has sales data for three years. Each inner list has five elements, one for each category of product your company sells. Each of those lists, in turn, has four elements, one for each region of the country. The regions are North, South, East, and West, and the values in the list are in that order.\n",
    "\n",
    "Write a function named `sales` that requires three parameters, a list like the one shown above, an integer representing a category number, and a string representing a region. The possible values for the category number (the second argument) are `1`, `2`, `3`, `4`, and `5`. The possible values for the region (the third argument) are `'North'`, `'South'`, `'East'`, and `'West'`. Your function should return the sum of the sales for the given category and region over all years. Your returned value will be a number.\n",
    "\n",
    "We will always test with valid values for all arguments. Specifically:\n",
    "* Each inner list will always have 5 elements, one per category\n",
    "* Each inner-inner list will always have 4 elements, one per region\n",
    "* For the second argument, the only values we will test with are 1, 2, 3, 4, and 5\n",
    "* For the third argument, the only values we will test with are 'North', 'South', 'East', and 'West', and we will always capitalize them exactly as shown here.\n",
    "\n",
    "Do not assume that the first argument is a list containing only three elements; we may test with a list representing a different number of years."
   ]
  },
  {
   "cell_type": "code",
   "execution_count": null,
   "id": "5af74788-6492-436a-afc3-c97c217c635a",
   "metadata": {},
   "outputs": [],
   "source": [
    "# Problem 2 code in this cell\n",
    "\n"
   ]
  },
  {
   "cell_type": "code",
   "execution_count": null,
   "id": "1e1a9759",
   "metadata": {},
   "outputs": [],
   "source": [
    "# Test data for Problem 2\n",
    "\n",
    "sales_data_test = [\n",
    "    # 2020\n",
    "    [\n",
    "        [1200, 950, 1100, 1400],  # Category 1; sales in Region 1, 2, 3, 4\n",
    "        [800, 760, 900, 650],     # Category 2\n",
    "        [500, 600, 550, 700],     # Category 3\n",
    "        [1500, 1300, 1400, 1600], # Category 4\n",
    "        [700, 550, 650, 500],     # Category 5\n",
    "    ],\n",
    "    # 2021\n",
    "    [\n",
    "        [1300, 980, 1150, 1450],  # Category 1\n",
    "        [850, 780, 920, 670],     # Category 2\n",
    "        [520, 630, 570, 730],     # Category 3\n",
    "        [1550, 1350, 1450, 1650], # Category 4\n",
    "        [730, 580, 690, 520],     # Category 5\n",
    "    ],\n",
    "    # 2022\n",
    "    [\n",
    "        [1350, 1020, 1200, 1500], # Category 1\n",
    "        [880, 800, 940, 700],     # Category 2\n",
    "        [540, 650, 590, 750],     # Category 3\n",
    "        [1600, 1400, 1500, 1700], # Category 4\n",
    "        [760, 610, 720, 540],     # Category 5\n",
    "    ]\n",
    "]\n",
    "\n",
    "print(sales(sales_data_test, 5, 'West'))  # 1560\n",
    "print(sales(sales_data_test, 2, 'East'))  # 2760\n",
    "print(sales(sales_data_test, 4, 'South')) # 4050\n",
    "print(sales(sales_data_test, 1, 'North')) # 3850\n"
   ]
  },
  {
   "cell_type": "markdown",
   "id": "cf013c3a-01b8-4956-9924-4965b4280173",
   "metadata": {},
   "source": [
    "## Problem 3\n",
    "\n",
    "This problem relies on the file `favorites.txt`. You have this file; look at the Jupyter file navigation area on the left side of the window. The file contains data in CSV format with five fields per line. Some lines have one or more empty fields. Here is an excerpt from the file:\n",
    "```\n",
    "Name,Favorite Color,Favorite Food,Favorite Number,Age\n",
    "Alice,Red,Pizza,42,30\n",
    "Bob,,Hamburger,27,45\n",
    ",,Sushi,35,22\n",
    "```\n",
    "\n",
    "The line for `Alice` contains data for all five fields, the line for `Bob` is missing a value for `Favorite Color`, and the last line is missing values for both `Name` and `Favorite Color`. Every line might have zero or more missing values, however, **ALL LINES** contain a value for `Age` -- that value will never be missing.\n",
    "\n",
    "Write a function named `favorites` that requires one parameter, a string representing the name of a file. Your function should open the named file, read it in, and return a single dictionary having these keys:\n",
    "```\n",
    "{\n",
    "    'line_count': ____,\n",
    "    'number_of_outliers': ____,\n",
    "    'max_age': ____,\n",
    "    'min_age': ____\n",
    "}\n",
    "```\n",
    "The value for each key should be an integer. When calculating all values, **exclude** the first line of the file. For `line_count`, the value should be a count of how many data lines the file contains. For `number_of_outliers`, the value should be a count of how many lines do not have all five values. For `max_age`, the value should be the maximum age represented in the data. For `min_age`, the value should be the minimum age represented in the data. Remember to close the file. Do not hardcode `favorites.txt` as the filename; we may test with a file having a different name."
   ]
  },
  {
   "cell_type": "code",
   "execution_count": null,
   "id": "5d322103-53b4-47f6-bc16-32ae5440f22b",
   "metadata": {},
   "outputs": [],
   "source": [
    "# Problem 3 code in this cell\n",
    "\n"
   ]
  },
  {
   "cell_type": "code",
   "execution_count": null,
   "id": "9da9935f",
   "metadata": {},
   "outputs": [],
   "source": [
    "# Test data for Problem 3\n",
    "\n",
    "print(favorites('favorites.txt'))\n",
    "\n",
    "# Should print this dictionary:\n",
    "{'line_count': 192, 'number_of_outliers': 138, 'max_age': 50, 'min_age': 21}"
   ]
  },
  {
   "cell_type": "markdown",
   "id": "620dc802-25ee-43d9-bd49-c9b2a05978cf",
   "metadata": {},
   "source": [
    "## Problem 4\n",
    "\n",
    "This is the database problem; it relies on the database file `library.db`. You have this file; look at the Jupyter file navigation area on the left side of the window. Don't double-click the DB file -- Jupyter cannot open database files. To examine the tables and the data, use the ExtendsClass website for which there is a link in Canvas. You can also use the ExtendsClass website to build and run SQL statements.\n",
    "\n",
    "The database for this problem contains four tables: Books, Customers, BorrowedBooks, and Authors. These tables contain data about a library. There are Books written by Authors. There are Customers who take books out of the library. When a Customer takes out a Book, a row is added to the BorrowedBooks table."
   ]
  },
  {
   "cell_type": "markdown",
   "id": "b0a02846-ce77-4aa4-a77d-83277ad25867",
   "metadata": {},
   "source": [
    "### Part A (5 points)\n",
    "Write a SQL SELECT statement to retrieve every customer of the library, their full name (in the form _first_name space last_name_), and the number of books they have borrowed. Sort the result in descending order of the number of books borrowed.\n",
    "\n",
    "Your SQL SELECT statement **must** contain:\n",
    "\n",
    "* a JOIN or LEFT JOIN (you decide which is appropriate)\n",
    "* a GROUP BY clause\n",
    "* an ORDER BY clause that sort your results in descending order of the number of books borrowed\n",
    "\n",
    "Your SQL SELECT statement **must not** contain:\n",
    "* a WHERE clause\n",
    "* a HAVING clause (even if you know what that is and how it works)"
   ]
  },
  {
   "cell_type": "raw",
   "id": "223575ab-bd82-4d95-8336-83bae359ee15",
   "metadata": {},
   "source": [
    "-- Paste your Part A SELECT statement in this cell\n",
    "\n"
   ]
  },
  {
   "cell_type": "markdown",
   "id": "cc4e440d-be2f-4176-889f-480301923a92",
   "metadata": {},
   "source": [
    "### Part B (15 points)\n",
    "Write a function named `borrow` that requires one parameter, an integer. You can name the parameter whatever you want, but for discussion purposes, let's refer to the parameter as N. Your function must determine which customers have borrowed _N or more_ books.\n",
    "\n",
    "Your function must return a list of tuples; each tuple should contain three elements: a customer_id as an integer, a customer's full name as a string (in the form _first_name space last_name_), and the number of books that customer has borrowed as an integer. The list of tuples must be sorted in descending order of the number of books borrowed. Remember to limit the list to only customers who have borrowed N or more books.\n",
    "\n",
    "Your function must do the following:\n",
    "* connect to the `library.db` database\n",
    "* execute the SELECT statement you created in Part A (paste it into your code below)\n",
    "* use the results of executing the query\n",
    "* close the database connection"
   ]
  },
  {
   "cell_type": "code",
   "execution_count": null,
   "id": "65702156-67e9-47b6-9e8a-e0f97a911578",
   "metadata": {},
   "outputs": [],
   "source": [
    "import sqlite3\n",
    "\n",
    "# Problem 4 function below this line...\n",
    "\n"
   ]
  },
  {
   "cell_type": "code",
   "execution_count": null,
   "id": "029d63b8",
   "metadata": {},
   "outputs": [],
   "source": [
    "# Test data for Problem 4\n",
    "\n",
    "print(borrow(3))  # [(1, 'Ariana Goldblum', 4), (2, 'Ravi Singh', 3)]\n",
    "print(borrow(2))  # [(1, 'Ariana Goldblum', 4), (2, 'Ravi Singh', 3)]\n",
    "print(borrow(1))  # [(1, 'Ariana Goldblum', 4), (2, 'Ravi Singh', 3), (4, 'Viktor Nemov', 1)]\n"
   ]
  },
  {
   "cell_type": "markdown",
   "id": "a2227921",
   "metadata": {},
   "source": [
    "## Problem 5\n",
    "\n",
    "The formula to calculate the future value of an investment with regular contributions is as follows<sup>*</sup>:\n",
    "\n",
    "$$FV = P \\times (1 + r)^t + C \\times \\frac{(1 + r)^t - 1}{r}$$\n",
    "\n",
    "The meaning of each term in the expression:\n",
    "* `P` is the principal, that is, the initial investment amount\n",
    "* `C` is the contribution made at the end of each period\n",
    "* `r` is the interest rate per period\n",
    "* `t` is the number of periods\n",
    "\n",
    "Write a function named `fv` that requires four parameters which are the terms listed above, in that order. Your function should calculate the formula and return the FV amount as a float. You do not need to adjust any of the parameters. You may assume that all are floats except for `t` which will be an integer.\n",
    "\n",
    "Do not worry about the number of decimal places in your answer; accept whatever precision Python provides.\n",
    "\n",
    "<sup>*</sup>Your instructor is not a finance guru. If this formula happens to be incorrect, please use it anyway. :-)"
   ]
  },
  {
   "cell_type": "code",
   "execution_count": null,
   "id": "598539fc",
   "metadata": {},
   "outputs": [],
   "source": [
    "# Problem 5 code in this cell\n",
    "\n"
   ]
  },
  {
   "cell_type": "code",
   "execution_count": null,
   "id": "cb7e5936",
   "metadata": {},
   "outputs": [],
   "source": [
    "# Test data for Problem 5\n",
    "# Exact match for all decimal places it not required\n",
    "\n",
    "print(fv(2000, 150, 0.03 / 12, 12))  # 3885.7893286374174\n",
    "print(fv(10000, 0, 0.048 / 12, 24))  # 11005.483003371204\n",
    "print(fv(500, 200, 0.06 / 12, 36))   # 8465.561255348295\n",
    "print(fv(1500, 50, 0.084 / 12, 24))  # 3075.1129669522334\n",
    "print(fv(1000, 25, 0.018 / 12, 60))  # 2662.4422232436646\n"
   ]
  }
 ],
 "metadata": {
  "kernelspec": {
   "display_name": "Python 3",
   "language": "python",
   "name": "python3"
  },
  "language_info": {
   "codemirror_mode": {
    "name": "ipython",
    "version": 3
   },
   "file_extension": ".py",
   "mimetype": "text/x-python",
   "name": "python",
   "nbconvert_exporter": "python",
   "pygments_lexer": "ipython3",
   "version": "3.12.1"
  }
 },
 "nbformat": 4,
 "nbformat_minor": 5
}
